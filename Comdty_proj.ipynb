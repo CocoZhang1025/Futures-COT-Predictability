{
 "cells": [
  {
   "cell_type": "code",
   "execution_count": 24,
   "metadata": {},
   "outputs": [],
   "source": [
    "import pandas as pd\n",
    "from pandas.tseries.offsets import BDay\n",
    "import statsmodels.api as sm"
   ]
  },
  {
   "cell_type": "markdown",
   "metadata": {},
   "source": [
    "### 1. Merge COT Data with Futures Return"
   ]
  },
  {
   "cell_type": "markdown",
   "metadata": {},
   "source": [
    "#### WTI Crude Oil"
   ]
  },
  {
   "cell_type": "code",
   "execution_count": 25,
   "metadata": {},
   "outputs": [
    {
     "name": "stderr",
     "output_type": "stream",
     "text": [
      "/var/folders/x9/81t79ql10xlfpj2hrqlppjj80000gn/T/ipykernel_75682/113116674.py:3: UserWarning: Could not infer format, so each element will be parsed individually, falling back to `dateutil`. To ensure parsing is consistent and as-expected, please specify a format.\n",
      "  df_cot[\"COT_Date\"] = pd.to_datetime(df_cot[\"Report_Date_as_YYYY_MM_DD\"])\n"
     ]
    }
   ],
   "source": [
    "# --- Load and clean the COT data ---\n",
    "df_cot = pd.read_csv(\"WTI.csv\")\n",
    "df_cot[\"COT_Date\"] = pd.to_datetime(df_cot[\"Report_Date_as_YYYY_MM_DD\"])\n",
    "\n",
    "# --- Load and clean front-month futures prices (CL1) ---\n",
    "df_price_raw = pd.read_excel(\"CL1.xlsx\", skiprows=6)\n",
    "df_price_clean = df_price_raw[[\"Date\", \"PX_SETTLE\"]].dropna()\n",
    "df_price_clean.columns = [\"Date\", \"Settle\"]\n",
    "df_price_clean[\"Date\"] = pd.to_datetime(df_price_clean[\"Date\"])\n",
    "\n",
    "# --- Build expiry calendar for WTI contracts ---\n",
    "# Note: CME WTI contracts expire 3 business days before the 25th of the month prior to delivery.\n",
    "def get_expiry_dates(start, end):\n",
    "    dates = pd.date_range(start, end, freq=\"MS\")\n",
    "    expiry = [pd.Timestamp(y, m, 25) - BDay(3) for y, m in zip(dates.year, dates.month)]\n",
    "    expiry_df = pd.DataFrame({\"Expiry\": expiry})\n",
    "    expiry_df[\"YearMonth\"] = expiry_df[\"Expiry\"].dt.to_period(\"M\")\n",
    "    return expiry_df\n",
    "expiry_calendar = get_expiry_dates(df_price_clean[\"Date\"].min(), df_price_clean[\"Date\"].max())\n",
    "\n",
    "# --- Assign each price to a contract month and flag rollover weeks ---\n",
    "df_price_clean[\"YearMonth\"] = df_price_clean[\"Date\"].dt.to_period(\"M\")\n",
    "df_price_clean = df_price_clean.merge(expiry_calendar, on=\"YearMonth\", how=\"left\")\n",
    "# Compute days-to-expiry\n",
    "df_price_clean[\"DaysToExpiry\"] = (df_price_clean[\"Expiry\"] - df_price_clean[\"Date\"]).dt.days\n",
    "df_price_clean[\"RolloverRisk\"] = df_price_clean[\"DaysToExpiry\"].between(0, 5) # Any price date within 5 calendar days of expiry is flagged\n",
    "\n",
    "# --- Merge COT data with prices and drop rollover weeks ---\n",
    "df_merged = pd.merge(df_cot, df_price_clean, left_on=\"COT_Date\", right_on=\"Date\", how=\"inner\")\n",
    "df_merged_clean = df_merged[~df_merged[\"RolloverRisk\"]].copy()\n",
    "\n",
    "# --- Calculate weekly returns ---\n",
    "df_merged_clean = df_merged_clean.sort_values(\"COT_Date\")\n",
    "df_merged_clean[\"Settle_t+1\"] = df_merged_clean[\"Settle\"].shift(-1)\n",
    "df_merged_clean[\"Return\"] = (df_merged_clean[\"Settle_t+1\"] - df_merged_clean[\"Settle\"]) / df_merged_clean[\"Settle\"]\n",
    "\n"
   ]
  },
  {
   "cell_type": "code",
   "execution_count": 26,
   "metadata": {},
   "outputs": [],
   "source": [
    "useful_columns = [\n",
    "    \"COT_Date\", \"Settle\", \"Settle_t+1\", \"Return\",\"Open_Interest_All\",\n",
    "    # Producer/Merchant\n",
    "    \"Prod_Merc_Positions_Long_All\", \"Prod_Merc_Positions_Short_All\", \"Prod_Net\",\n",
    "    # Swap Dealer\n",
    "    \"Swap_Positions_Long_All\", \"Swap__Positions_Short_All\", \"Swap_Net\",\n",
    "    # Managed Money\n",
    "    \"M_Money_Positions_Long_All\", \"M_Money_Positions_Short_All\", \"MM_Net\",\n",
    "    # Other Reportables\n",
    "    \"Other_Rept_Positions_Long_All\", \"Other_Rept_Positions_Short_All\",\"Other_Net\",\n",
    "    # Non-Reportables\n",
    "    \"NonRept_Positions_Long_All\", \"NonRept_Positions_Short_All\",\"NonRep_Net\"\n",
    "]\n",
    "df_merged_clean[\"MM_Net\"] = df_merged_clean[\"M_Money_Positions_Long_All\"] - df_merged_clean[\"M_Money_Positions_Short_All\"]\n",
    "df_merged_clean[\"Swap_Net\"] = df_merged_clean[\"Swap_Positions_Long_All\"] - df_merged_clean[\"Swap__Positions_Short_All\"]\n",
    "df_merged_clean[\"Prod_Net\"] = df_merged_clean[\"Prod_Merc_Positions_Long_All\"] - df_merged_clean[\"Prod_Merc_Positions_Short_All\"]\n",
    "df_merged_clean[\"Other_Net\"] = df_merged_clean[\"Other_Rept_Positions_Long_All\"] - df_merged_clean[\"Other_Rept_Positions_Short_All\"]\n",
    "df_merged_clean[\"NonRep_Net\"] = df_merged_clean[\"NonRept_Positions_Long_All\"] - df_merged_clean[\"NonRept_Positions_Short_All\"]\n",
    "\n",
    "df_WTI_final = df_merged_clean[useful_columns].copy()"
   ]
  },
  {
   "cell_type": "markdown",
   "metadata": {},
   "source": [
    "#### RBOB Gasoline"
   ]
  },
  {
   "cell_type": "code",
   "execution_count": 27,
   "metadata": {},
   "outputs": [
    {
     "name": "stderr",
     "output_type": "stream",
     "text": [
      "/var/folders/x9/81t79ql10xlfpj2hrqlppjj80000gn/T/ipykernel_75682/3021542581.py:3: UserWarning: Could not infer format, so each element will be parsed individually, falling back to `dateutil`. To ensure parsing is consistent and as-expected, please specify a format.\n",
      "  df_gas[\"COT_Date\"] = pd.to_datetime(df_gas[\"Report_Date_as_YYYY_MM_DD\"])\n"
     ]
    }
   ],
   "source": [
    "# --- Load and prepare RBOB position data ---\n",
    "df_gas = pd.read_csv(\"Gasoline.csv\")\n",
    "df_gas[\"COT_Date\"] = pd.to_datetime(df_gas[\"Report_Date_as_YYYY_MM_DD\"])\n",
    "\n",
    "# --- Load and prepare XB1 front-month futures price data ---\n",
    "df_xb1_raw = pd.read_excel(\"XB1.xlsx\", skiprows=6)\n",
    "df_xb1_clean = df_xb1_raw[[\"Date\", \"PX_SETTLE\"]].dropna()\n",
    "df_xb1_clean.columns = [\"Date\", \"Settle\"]\n",
    "df_xb1_clean[\"Date\"] = pd.to_datetime(df_xb1_clean[\"Date\"])\n",
    "\n",
    "# --- Build expiry calendar for RBOB Gasoline ---\n",
    "# RBOB contracts expire on the last business day of the month before the contract month\n",
    "def get_rbob_expiry_dates(start, end):\n",
    "    dates = pd.date_range(start, end, freq=\"MS\")\n",
    "    expiry = [pd.Timestamp(y, m, 1) - BDay(1) for y, m in zip(dates.year, dates.month)]\n",
    "    expiry_df = pd.DataFrame({\"Expiry\": expiry})\n",
    "    expiry_df[\"YearMonth\"] = expiry_df[\"Expiry\"].dt.to_period(\"M\")\n",
    "    return expiry_df\n",
    "\n",
    "rbob_expiry_calendar = get_rbob_expiry_dates(df_xb1_clean[\"Date\"].min(), df_xb1_clean[\"Date\"].max())\n",
    "\n",
    "# --- Flag rollover risk ---\n",
    "df_xb1_clean[\"YearMonth\"] = df_xb1_clean[\"Date\"].dt.to_period(\"M\")\n",
    "df_xb1_clean = df_xb1_clean.merge(rbob_expiry_calendar, on=\"YearMonth\", how=\"left\")\n",
    "df_xb1_clean[\"DaysToExpiry\"] = (df_xb1_clean[\"Expiry\"] - df_xb1_clean[\"Date\"]).dt.days\n",
    "df_xb1_clean[\"RolloverRisk\"] = df_xb1_clean[\"DaysToExpiry\"].between(0, 5)\n",
    "\n",
    "# --- Merge COT data with XB1 price data and exclude rollover weeks ---\n",
    "df_merged = pd.merge(df_gas, df_xb1_clean, left_on=\"COT_Date\", right_on=\"Date\", how=\"inner\")\n",
    "df_merged_clean = df_merged[~df_merged[\"RolloverRisk\"]].copy()\n",
    "\n",
    "# --- Calculate weekly returns ---\n",
    "df_merged_clean = df_merged_clean.sort_values(\"COT_Date\")\n",
    "df_merged_clean[\"Settle_t+1\"] = df_merged_clean[\"Settle\"].shift(-1)\n",
    "df_merged_clean[\"Return\"] = (df_merged_clean[\"Settle_t+1\"] - df_merged_clean[\"Settle\"]) / df_merged_clean[\"Settle\"]\n",
    "\n",
    "# --- Calculate net positions for all five trader types ---\n",
    "df_merged_clean[\"MM_Net\"] = df_merged_clean[\"M_Money_Positions_Long_All\"] - df_merged_clean[\"M_Money_Positions_Short_All\"]\n",
    "df_merged_clean[\"Swap_Net\"] = df_merged_clean[\"Swap_Positions_Long_All\"] - df_merged_clean[\"Swap__Positions_Short_All\"]\n",
    "df_merged_clean[\"Prod_Net\"] = df_merged_clean[\"Prod_Merc_Positions_Long_All\"] - df_merged_clean[\"Prod_Merc_Positions_Short_All\"]\n",
    "df_merged_clean[\"Other_Net\"] = df_merged_clean[\"Other_Rept_Positions_Long_All\"] - df_merged_clean[\"Other_Rept_Positions_Short_All\"]\n",
    "df_merged_clean[\"NonRep_Net\"] = df_merged_clean[\"NonRept_Positions_Long_All\"] - df_merged_clean[\"NonRept_Positions_Short_All\"]\n",
    "\n",
    "useful_columns = [\n",
    "    \"COT_Date\", \"Settle\", \"Settle_t+1\", \"Return\",\"Open_Interest_All\",\n",
    "    \"Prod_Merc_Positions_Long_All\", \"Prod_Merc_Positions_Short_All\", \"Prod_Net\",\n",
    "    \"Swap_Positions_Long_All\", \"Swap__Positions_Short_All\", \"Swap_Net\",\n",
    "    \"M_Money_Positions_Long_All\", \"M_Money_Positions_Short_All\", \"MM_Net\",\n",
    "    \"Other_Rept_Positions_Long_All\", \"Other_Rept_Positions_Short_All\", \"Other_Net\",\n",
    "    \"NonRept_Positions_Long_All\", \"NonRept_Positions_Short_All\", \"NonRep_Net\"\n",
    "]\n",
    "\n",
    "df_XB_final = df_merged_clean[useful_columns].copy()\n",
    "df_XB_final.to_excel(\"XB_merged.xlsx\", index=False)"
   ]
  },
  {
   "cell_type": "markdown",
   "metadata": {},
   "source": [
    "### 2. Feature transforms (net positions as % change and z-scores)"
   ]
  },
  {
   "cell_type": "code",
   "execution_count": 28,
   "metadata": {},
   "outputs": [],
   "source": [
    "# --- Convert to % change ---\n",
    "net_cols = [\"MM_Net\", \"Swap_Net\", \"Prod_Net\", \"Other_Net\", \"NonRep_Net\"]\n",
    "\n",
    "# --- For RBOB ---\n",
    "for col in net_cols:\n",
    "    df_XB_final[f\"{col}_Chg\"] = df_XB_final[col].pct_change()\n",
    "    df_XB_final[f\"{col}_Chg\"] =df_XB_final[f\"{col}_Chg\"].replace([float(\"inf\"), float(\"-inf\")], pd.NA)\n",
    "\n",
    "# --- For WTI ---\n",
    "for col in net_cols:\n",
    "    df_WTI_final[f\"{col}_Chg\"] = df_WTI_final[col].pct_change()\n",
    "    df_WTI_final[f\"{col}_Chg\"] = df_WTI_final[f\"{col}_Chg\"].replace([float(\"inf\"), float(\"-inf\")], pd.NA)\n",
    "\n",
    "df_WTI_final.to_excel(\"WTI_merged.xlsx\", index=False)\n",
    "df_XB_final.to_excel(\"XB_merged.xlsx\", index=False)"
   ]
  },
  {
   "cell_type": "code",
   "execution_count": 34,
   "metadata": {},
   "outputs": [],
   "source": [
    "# --- Convert to z-scores ---\n",
    "\n",
    "# Rolling Z‑scores (52‑week window)\n",
    "window = 52\n",
    "def add_z(df):\n",
    "    for col in net_cols:\n",
    "        df[col+\"_z\"] = (df[col] - df[col].rolling(window, min_periods=26).mean()) / df[col].rolling(window, min_periods=26).std()\n",
    "    return df\n",
    "\n",
    "df_WTI = add_z(df_WTI_final)\n",
    "df_XB  = add_z(df_XB_final)\n",
    "\n",
    "z_cols = [c+\"_z\" for c in net_cols]"
   ]
  },
  {
   "cell_type": "markdown",
   "metadata": {},
   "source": [
    "### 3. Regression Model"
   ]
  },
  {
   "cell_type": "code",
   "execution_count": 35,
   "metadata": {},
   "outputs": [],
   "source": [
    "def get_R2_and_models(df, label):\n",
    "    R2s = {}\n",
    "    models = {}\n",
    "    for h in [1,2,3]:\n",
    "        tgt = f\"Ret_t{h}\"\n",
    "        df[tgt] = df[\"Return\"].shift(-h)\n",
    "        reg = df[[tgt]+z_cols].dropna()\n",
    "        X = sm.add_constant(reg[z_cols])\n",
    "        res = sm.OLS(reg[tgt], X).fit()\n",
    "        R2s[h] = res.rsquared\n",
    "        models[h] = res\n",
    "    return R2s, models\n",
    "\n",
    "R2_wti, models_wti = get_R2_and_models(df_WTI,\"WTI\")\n",
    "R2_xb , models_xb  = get_R2_and_models(df_XB ,\"RBOB\")\n",
    "\n",
    "R2_table_WTI = pd.DataFrame({\n",
    "    \"Lag\": [\"t+1\",\"t+2\",\"t+3\"],\n",
    "    \"R2\": [round(R2_wti[1],4), round(R2_wti[2],4), round(R2_wti[3],4)]\n",
    "})\n",
    "R2_table_XB = pd.DataFrame({\n",
    "    \"Lag\": [\"t+1\",\"t+2\",\"t+3\"],\n",
    "    \"R2\": [round(R2_xb[1],4), round(R2_xb[2],4), round(R2_xb[3],4)]\n",
    "})\n",
    "\n",
    "# Select best horizon \n",
    "best_wti_h = max(R2_wti, key=R2_wti.get)\n",
    "best_xb_h  = max(R2_xb , key=R2_xb.get)\n",
    "\n",
    "def beta_table(res, label, horizon):\n",
    "    rows = []\n",
    "    for var in z_cols:\n",
    "        rows.append({\n",
    "            \"Predictor\": var.replace(\"_Net_z\",\"\").replace(\"_z\",\"\"),\n",
    "            \"Beta\": round(res.params[var],4),\n",
    "            \"p_value\": round(res.pvalues[var],4)\n",
    "        })\n",
    "    return pd.DataFrame(rows)\n",
    "\n",
    "beta_wti = beta_table(models_wti[best_wti_h], \"WTI\", best_wti_h)\n",
    "beta_xb  = beta_table(models_xb[best_xb_h], \"RBOB\", best_xb_h)"
   ]
  },
  {
   "cell_type": "code",
   "execution_count": 36,
   "metadata": {},
   "outputs": [
    {
     "data": {
      "text/html": [
       "<div>\n",
       "<style scoped>\n",
       "    .dataframe tbody tr th:only-of-type {\n",
       "        vertical-align: middle;\n",
       "    }\n",
       "\n",
       "    .dataframe tbody tr th {\n",
       "        vertical-align: top;\n",
       "    }\n",
       "\n",
       "    .dataframe thead th {\n",
       "        text-align: right;\n",
       "    }\n",
       "</style>\n",
       "<table border=\"1\" class=\"dataframe\">\n",
       "  <thead>\n",
       "    <tr style=\"text-align: right;\">\n",
       "      <th></th>\n",
       "      <th>Lag</th>\n",
       "      <th>R2</th>\n",
       "    </tr>\n",
       "  </thead>\n",
       "  <tbody>\n",
       "    <tr>\n",
       "      <th>0</th>\n",
       "      <td>t+1</td>\n",
       "      <td>0.0072</td>\n",
       "    </tr>\n",
       "    <tr>\n",
       "      <th>1</th>\n",
       "      <td>t+2</td>\n",
       "      <td>0.0093</td>\n",
       "    </tr>\n",
       "    <tr>\n",
       "      <th>2</th>\n",
       "      <td>t+3</td>\n",
       "      <td>0.0058</td>\n",
       "    </tr>\n",
       "  </tbody>\n",
       "</table>\n",
       "</div>"
      ],
      "text/plain": [
       "   Lag      R2\n",
       "0  t+1  0.0072\n",
       "1  t+2  0.0093\n",
       "2  t+3  0.0058"
      ]
     },
     "execution_count": 36,
     "metadata": {},
     "output_type": "execute_result"
    }
   ],
   "source": [
    "R2_table_WTI"
   ]
  },
  {
   "cell_type": "code",
   "execution_count": 37,
   "metadata": {},
   "outputs": [
    {
     "data": {
      "text/html": [
       "<div>\n",
       "<style scoped>\n",
       "    .dataframe tbody tr th:only-of-type {\n",
       "        vertical-align: middle;\n",
       "    }\n",
       "\n",
       "    .dataframe tbody tr th {\n",
       "        vertical-align: top;\n",
       "    }\n",
       "\n",
       "    .dataframe thead th {\n",
       "        text-align: right;\n",
       "    }\n",
       "</style>\n",
       "<table border=\"1\" class=\"dataframe\">\n",
       "  <thead>\n",
       "    <tr style=\"text-align: right;\">\n",
       "      <th></th>\n",
       "      <th>Lag</th>\n",
       "      <th>R2</th>\n",
       "    </tr>\n",
       "  </thead>\n",
       "  <tbody>\n",
       "    <tr>\n",
       "      <th>0</th>\n",
       "      <td>t+1</td>\n",
       "      <td>0.0125</td>\n",
       "    </tr>\n",
       "    <tr>\n",
       "      <th>1</th>\n",
       "      <td>t+2</td>\n",
       "      <td>0.0140</td>\n",
       "    </tr>\n",
       "    <tr>\n",
       "      <th>2</th>\n",
       "      <td>t+3</td>\n",
       "      <td>0.0106</td>\n",
       "    </tr>\n",
       "  </tbody>\n",
       "</table>\n",
       "</div>"
      ],
      "text/plain": [
       "   Lag      R2\n",
       "0  t+1  0.0125\n",
       "1  t+2  0.0140\n",
       "2  t+3  0.0106"
      ]
     },
     "execution_count": 37,
     "metadata": {},
     "output_type": "execute_result"
    }
   ],
   "source": [
    "R2_table_XB"
   ]
  },
  {
   "cell_type": "code",
   "execution_count": 38,
   "metadata": {},
   "outputs": [
    {
     "data": {
      "text/html": [
       "<div>\n",
       "<style scoped>\n",
       "    .dataframe tbody tr th:only-of-type {\n",
       "        vertical-align: middle;\n",
       "    }\n",
       "\n",
       "    .dataframe tbody tr th {\n",
       "        vertical-align: top;\n",
       "    }\n",
       "\n",
       "    .dataframe thead th {\n",
       "        text-align: right;\n",
       "    }\n",
       "</style>\n",
       "<table border=\"1\" class=\"dataframe\">\n",
       "  <thead>\n",
       "    <tr style=\"text-align: right;\">\n",
       "      <th></th>\n",
       "      <th>Predictor</th>\n",
       "      <th>Beta</th>\n",
       "      <th>p_value</th>\n",
       "    </tr>\n",
       "  </thead>\n",
       "  <tbody>\n",
       "    <tr>\n",
       "      <th>0</th>\n",
       "      <td>MM</td>\n",
       "      <td>0.0043</td>\n",
       "      <td>0.1457</td>\n",
       "    </tr>\n",
       "    <tr>\n",
       "      <th>1</th>\n",
       "      <td>Swap</td>\n",
       "      <td>0.0054</td>\n",
       "      <td>0.1822</td>\n",
       "    </tr>\n",
       "    <tr>\n",
       "      <th>2</th>\n",
       "      <td>Prod</td>\n",
       "      <td>0.0042</td>\n",
       "      <td>0.3336</td>\n",
       "    </tr>\n",
       "    <tr>\n",
       "      <th>3</th>\n",
       "      <td>Other</td>\n",
       "      <td>0.0006</td>\n",
       "      <td>0.8747</td>\n",
       "    </tr>\n",
       "    <tr>\n",
       "      <th>4</th>\n",
       "      <td>NonRep</td>\n",
       "      <td>0.0025</td>\n",
       "      <td>0.3043</td>\n",
       "    </tr>\n",
       "  </tbody>\n",
       "</table>\n",
       "</div>"
      ],
      "text/plain": [
       "  Predictor    Beta  p_value\n",
       "0        MM  0.0043   0.1457\n",
       "1      Swap  0.0054   0.1822\n",
       "2      Prod  0.0042   0.3336\n",
       "3     Other  0.0006   0.8747\n",
       "4    NonRep  0.0025   0.3043"
      ]
     },
     "execution_count": 38,
     "metadata": {},
     "output_type": "execute_result"
    }
   ],
   "source": [
    "beta_wti"
   ]
  },
  {
   "cell_type": "code",
   "execution_count": 39,
   "metadata": {},
   "outputs": [
    {
     "data": {
      "text/html": [
       "<div>\n",
       "<style scoped>\n",
       "    .dataframe tbody tr th:only-of-type {\n",
       "        vertical-align: middle;\n",
       "    }\n",
       "\n",
       "    .dataframe tbody tr th {\n",
       "        vertical-align: top;\n",
       "    }\n",
       "\n",
       "    .dataframe thead th {\n",
       "        text-align: right;\n",
       "    }\n",
       "</style>\n",
       "<table border=\"1\" class=\"dataframe\">\n",
       "  <thead>\n",
       "    <tr style=\"text-align: right;\">\n",
       "      <th></th>\n",
       "      <th>Predictor</th>\n",
       "      <th>Beta</th>\n",
       "      <th>p_value</th>\n",
       "    </tr>\n",
       "  </thead>\n",
       "  <tbody>\n",
       "    <tr>\n",
       "      <th>0</th>\n",
       "      <td>MM</td>\n",
       "      <td>-0.0054</td>\n",
       "      <td>0.3298</td>\n",
       "    </tr>\n",
       "    <tr>\n",
       "      <th>1</th>\n",
       "      <td>Swap</td>\n",
       "      <td>0.0004</td>\n",
       "      <td>0.8901</td>\n",
       "    </tr>\n",
       "    <tr>\n",
       "      <th>2</th>\n",
       "      <td>Prod</td>\n",
       "      <td>-0.0108</td>\n",
       "      <td>0.0478</td>\n",
       "    </tr>\n",
       "    <tr>\n",
       "      <th>3</th>\n",
       "      <td>Other</td>\n",
       "      <td>-0.0013</td>\n",
       "      <td>0.7151</td>\n",
       "    </tr>\n",
       "    <tr>\n",
       "      <th>4</th>\n",
       "      <td>NonRep</td>\n",
       "      <td>-0.0033</td>\n",
       "      <td>0.3003</td>\n",
       "    </tr>\n",
       "  </tbody>\n",
       "</table>\n",
       "</div>"
      ],
      "text/plain": [
       "  Predictor    Beta  p_value\n",
       "0        MM -0.0054   0.3298\n",
       "1      Swap  0.0004   0.8901\n",
       "2      Prod -0.0108   0.0478\n",
       "3     Other -0.0013   0.7151\n",
       "4    NonRep -0.0033   0.3003"
      ]
     },
     "execution_count": 39,
     "metadata": {},
     "output_type": "execute_result"
    }
   ],
   "source": [
    "beta_xb"
   ]
  }
 ],
 "metadata": {
  "kernelspec": {
   "display_name": "Python 3",
   "language": "python",
   "name": "python3"
  },
  "language_info": {
   "codemirror_mode": {
    "name": "ipython",
    "version": 3
   },
   "file_extension": ".py",
   "mimetype": "text/x-python",
   "name": "python",
   "nbconvert_exporter": "python",
   "pygments_lexer": "ipython3",
   "version": "3.11.8"
  }
 },
 "nbformat": 4,
 "nbformat_minor": 2
}
